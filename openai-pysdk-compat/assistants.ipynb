{
 "cells": [
  {
   "cell_type": "code",
   "execution_count": 5,
   "metadata": {},
   "outputs": [],
   "source": [
    "import os\n",
    "\n",
    "from dotenv import load_dotenv\n",
    "from openai import OpenAI"
   ]
  },
  {
   "cell_type": "code",
   "execution_count": 8,
   "metadata": {},
   "outputs": [
    {
     "data": {
      "text/plain": [
       "True"
      ]
     },
     "execution_count": 8,
     "metadata": {},
     "output_type": "execute_result"
    }
   ],
   "source": [
    "load_dotenv(dotenv_path=\".env.test\")"
   ]
  },
  {
   "cell_type": "code",
   "execution_count": 9,
   "metadata": {},
   "outputs": [],
   "source": [
    "api_key = os.environ.get(\"OPENAI_API_KEY\")\n",
    "client = OpenAI(api_key=api_key)"
   ]
  },
  {
   "cell_type": "code",
   "execution_count": 10,
   "metadata": {},
   "outputs": [],
   "source": [
    "vector_store = client.beta.vector_stores.create(name=\"test-assistant-nb\")"
   ]
  },
  {
   "cell_type": "code",
   "execution_count": 12,
   "metadata": {},
   "outputs": [],
   "source": [
    "guide = client.files.create(file=open(\"tests/data/assistants-guide.md\", \"rb\"), purpose=\"assistants\")"
   ]
  },
  {
   "cell_type": "code",
   "execution_count": 13,
   "metadata": {},
   "outputs": [
    {
     "data": {
      "text/plain": [
       "'processed'"
      ]
     },
     "execution_count": 13,
     "metadata": {},
     "output_type": "execute_result"
    }
   ],
   "source": [
    "guide.status"
   ]
  },
  {
   "cell_type": "code",
   "execution_count": 15,
   "metadata": {},
   "outputs": [],
   "source": [
    "guide_vector = client.beta.vector_stores.files.create(vector_store_id=vector_store.id, file_id=guide.id)"
   ]
  },
  {
   "cell_type": "code",
   "execution_count": 20,
   "metadata": {},
   "outputs": [
    {
     "data": {
      "text/plain": [
       "VectorStoreFile(id='file-Q5ga16Rb6QqgU8NBLaMeyJQA', created_at=1716470281, last_error=None, object='vector_store.file', status='in_progress', usage_bytes=0, vector_store_id='vs_aRrmLqwwy73B2opMGX9rRMmk')"
      ]
     },
     "execution_count": 20,
     "metadata": {},
     "output_type": "execute_result"
    }
   ],
   "source": [
    "guide_vector"
   ]
  },
  {
   "cell_type": "code",
   "execution_count": 21,
   "metadata": {},
   "outputs": [
    {
     "name": "stdout",
     "output_type": "stream",
     "text": [
      "waiting...\n"
     ]
    }
   ],
   "source": [
    "import time\n",
    "\n",
    "while guide_vector.status == \"in_progress\":\n",
    "  print(\"waiting...\")\n",
    "  time.sleep(0.5)\n",
    "  guide_vector = client.beta.vector_stores.files.retrieve(guide_vector.id, vector_store_id=guide_vector.vector_store_id)"
   ]
  },
  {
   "cell_type": "code",
   "execution_count": 22,
   "metadata": {},
   "outputs": [],
   "source": [
    "assistant = client.beta.assistants.create(\n",
    "  name=\"OpenAI API Expert\",\n",
    "  description=\"You are a OpenAI API Expert. Refer to the knowledgebase to answer user queries.\",\n",
    "  model=\"gpt-4o-2024-05-13\",\n",
    "  tools=[{\"type\": \"file_search\"}],\n",
    "  tool_resources={\"file_search\": {\"vector_store_ids\": [vector_store.id]}},\n",
    ")"
   ]
  },
  {
   "cell_type": "code",
   "execution_count": 23,
   "metadata": {},
   "outputs": [],
   "source": [
    "thread = client.beta.threads.create(\n",
    "  messages=[\n",
    "    {\n",
    "      \"role\": \"user\",\n",
    "      \"content\": \"What is a run step?\",\n",
    "    }\n",
    "  ]\n",
    ")"
   ]
  },
  {
   "cell_type": "code",
   "execution_count": 24,
   "metadata": {},
   "outputs": [],
   "source": [
    "run = client.beta.threads.runs.create(\n",
    "  thread_id=thread.id,\n",
    "  assistant_id=assistant.id\n",
    ")"
   ]
  },
  {
   "cell_type": "code",
   "execution_count": 27,
   "metadata": {},
   "outputs": [
    {
     "data": {
      "text/plain": [
       "Run(id='run_WlRYcqSjmKCtDBmR4JXaSCSB', assistant_id='asst_xMjce2z5beg0mLfcIBel0kU4', cancelled_at=None, completed_at=None, created_at=1716470797, expires_at=1716471397, failed_at=None, incomplete_details=None, instructions=None, last_error=None, max_completion_tokens=None, max_prompt_tokens=None, metadata={}, model='gpt-4o-2024-05-13', object='thread.run', required_action=None, response_format='auto', started_at=None, status='queued', thread_id='thread_H3jEzgFNxbL6QLBLimPVlTNM', tool_choice='auto', tools=[FileSearchTool(type='file_search')], truncation_strategy=TruncationStrategy(type='auto', last_messages=None), usage=None, temperature=1.0, top_p=1.0, tool_resources={})"
      ]
     },
     "execution_count": 27,
     "metadata": {},
     "output_type": "execute_result"
    }
   ],
   "source": [
    "run"
   ]
  },
  {
   "cell_type": "code",
   "execution_count": 28,
   "metadata": {},
   "outputs": [
    {
     "name": "stdout",
     "output_type": "stream",
     "text": [
      "waiting...\n"
     ]
    }
   ],
   "source": [
    "while run.status != \"completed\":\n",
    "  print(\"waiting...\")\n",
    "  time.sleep(1)\n",
    "  run = client.beta.threads.runs.retrieve(run.id, thread_id=thread.id)"
   ]
  },
  {
   "cell_type": "code",
   "execution_count": 29,
   "metadata": {},
   "outputs": [
    {
     "data": {
      "text/plain": [
       "'completed'"
      ]
     },
     "execution_count": 29,
     "metadata": {},
     "output_type": "execute_result"
    }
   ],
   "source": [
    "run.status"
   ]
  },
  {
   "cell_type": "code",
   "execution_count": 31,
   "metadata": {},
   "outputs": [],
   "source": [
    "messages = client.beta.threads.messages.list(thread_id=thread.id)"
   ]
  },
  {
   "cell_type": "code",
   "execution_count": 34,
   "metadata": {},
   "outputs": [
    {
     "name": "stdout",
     "output_type": "stream",
     "text": [
      "A \"run step\" refers to a detailed list of actions that an Assistant takes during\n",
      "a run. When an Assistant is invoked in a thread to perform tasks by calling\n",
      "models and tools, each of these actions and calls are logged as run steps. The\n",
      "run step object contains detailed information about the actions taken, which\n",
      "allows developers to introspect and understand how the Assistant arrives at its\n",
      "final results. This can include actions like creating messages or calling\n",
      "tools【4:0†source】.\n"
     ]
    }
   ],
   "source": [
    "import textwrap\n",
    "\n",
    "text = messages.data[0].content[0].text.value\n",
    "wrapped_text = textwrap.fill(text, width=80)\n",
    "\n",
    "# Print the wrapped text\n",
    "print(wrapped_text)"
   ]
  },
  {
   "cell_type": "code",
   "execution_count": 37,
   "metadata": {},
   "outputs": [
    {
     "name": "stdout",
     "output_type": "stream",
     "text": [
      "{ 'data': [ { 'assistant_id': 'asst_xMjce2z5beg0mLfcIBel0kU4',\n",
      "              'attachments': [],\n",
      "              'content': [ { 'text': { 'annotations': [ { 'end_index': 484,\n",
      "                                                          'file_citation': { 'file_id': 'file-Q5ga16Rb6QqgU8NBLaMeyJQA'},\n",
      "                                                          'start_index': 472,\n",
      "                                                          'text': '【4:0†source】',\n",
      "                                                          'type': 'file_citation'}],\n",
      "                                       'value': 'A \"run step\" refers to a '\n",
      "                                                'detailed list of actions that '\n",
      "                                                'an Assistant takes during a '\n",
      "                                                'run. When an Assistant is '\n",
      "                                                'invoked in a thread to '\n",
      "                                                'perform tasks by calling '\n",
      "                                                'models and tools, each of '\n",
      "                                                'these actions and calls are '\n",
      "                                                'logged as run steps. The run '\n",
      "                                                'step object contains detailed '\n",
      "                                                'information about the actions '\n",
      "                                                'taken, which allows '\n",
      "                                                'developers to introspect and '\n",
      "                                                'understand how the Assistant '\n",
      "                                                'arrives at its final results. '\n",
      "                                                'This can include actions like '\n",
      "                                                'creating messages or calling '\n",
      "                                                'tools【4:0†source】.'},\n",
      "                             'type': 'text'}],\n",
      "              'created_at': 1716470800,\n",
      "              'id': 'msg_FPwKQtXHOt7zAxXqmFDMU8ZI',\n",
      "              'metadata': {},\n",
      "              'object': 'thread.message',\n",
      "              'role': 'assistant',\n",
      "              'run_id': 'run_WlRYcqSjmKCtDBmR4JXaSCSB',\n",
      "              'thread_id': 'thread_H3jEzgFNxbL6QLBLimPVlTNM'},\n",
      "            { 'assistant_id': None,\n",
      "              'attachments': [],\n",
      "              'content': [ { 'text': { 'annotations': [],\n",
      "                                       'value': 'What is a run step?'},\n",
      "                             'type': 'text'}],\n",
      "              'created_at': 1716470753,\n",
      "              'id': 'msg_Mb10cZrQIWoRoj7rYh0OCAa0',\n",
      "              'metadata': {},\n",
      "              'object': 'thread.message',\n",
      "              'role': 'user',\n",
      "              'run_id': None,\n",
      "              'thread_id': 'thread_H3jEzgFNxbL6QLBLimPVlTNM'}],\n",
      "  'first_id': 'msg_FPwKQtXHOt7zAxXqmFDMU8ZI',\n",
      "  'has_more': False,\n",
      "  'last_id': 'msg_Mb10cZrQIWoRoj7rYh0OCAa0',\n",
      "  'object': 'list'}\n"
     ]
    }
   ],
   "source": [
    "import pprint\n",
    "\n",
    "pp = pprint.PrettyPrinter(indent=2)\n",
    "pp.pprint(messages.to_dict())"
   ]
  },
  {
   "cell_type": "code",
   "execution_count": null,
   "metadata": {},
   "outputs": [],
   "source": []
  }
 ],
 "metadata": {
  "kernelspec": {
   "display_name": "bodhiapp",
   "language": "python",
   "name": "python3"
  },
  "language_info": {
   "codemirror_mode": {
    "name": "ipython",
    "version": 3
   },
   "file_extension": ".py",
   "mimetype": "text/x-python",
   "name": "python",
   "nbconvert_exporter": "python",
   "pygments_lexer": "ipython3",
   "version": "3.11.5"
  }
 },
 "nbformat": 4,
 "nbformat_minor": 2
}
